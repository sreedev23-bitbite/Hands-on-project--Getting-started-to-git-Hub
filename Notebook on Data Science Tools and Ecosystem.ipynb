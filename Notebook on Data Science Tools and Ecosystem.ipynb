{
 "cells": [
  {
   "cell_type": "markdown",
   "id": "f73a953c-ec8c-436b-b8dd-09de6327dc01",
   "metadata": {},
   "source": [
    "# Data Science Tools and Ecosystem"
   ]
  },
  {
   "cell_type": "markdown",
   "id": "1f6c178e-359c-4a92-8979-fcc022823780",
   "metadata": {},
   "source": [
    "In this notebook, Data Science Tools and Ecosystem are summarized. In this we are gone look into differnt type of tools used for data anaylsis and the enviorment in which a data scientist works. which includes Python,R,ML,Deep Learning,etc. We are also gone disscus on the differnt open source platform for both learners and data scientist who work with datas."
   ]
  },
  {
   "cell_type": "markdown",
   "id": "dc923201-c0ad-4357-801c-5b2d41990bf3",
   "metadata": {},
   "source": [
    "__Objectives__\n",
    "* Popular languages in Data science\n",
    "* Commonly used libraries by Data scientists\n",
    "* Some of the open source enviorment tools used in Data science\n",
    "* Some examples for arthematic expressions in python\n",
    "* A programme which shows the convertion of 200 minutes into seconds"
   ]
  },
  {
   "cell_type": "markdown",
   "id": "d9c801f3-adcc-4c81-bd9d-745f7ad3b702",
   "metadata": {},
   "source": [
    "Some of the popular languages data scientists use are :\n",
    " _python_ \n",
    " _R_\n",
    " _scala_\n",
    " _C_\n",
    " _C++_\n",
    " _Java_\n",
    "\n",
    "\n",
    "\n"
   ]
  },
  {
   "cell_type": "markdown",
   "id": "3e037790-0371-4d9e-be3b-9874e5b335cb",
   "metadata": {},
   "source": [
    "Some of the commonly used libraries used by Data Scientists include:\n",
    "1. Numpy\n",
    "2. Matplot\n",
    "3. pandas\n",
    "4. Scikit-learning\n"
   ]
  },
  {
   "cell_type": "markdown",
   "id": "79213351-8181-43a8-9a42-8e1be565c66d",
   "metadata": {},
   "source": [
    "|Data Science Tools|\n",
    "|------------------|\n",
    "|Vs studio or visual studio code|\n",
    "|Anaconda|\n",
    "|Pycharam|\n",
    "|Jupyther Lab|\n"
   ]
  },
  {
   "cell_type": "markdown",
   "id": "7393a49e-dad9-4707-91c5-75f83a332b90",
   "metadata": {},
   "source": [
    "### This are some examples for arthematic expressions in python \n",
    "* 5 + 4 = 9\n",
    "* 10 / 2 = 5\n",
    "* 2 * 5 = 10\n",
    "* 53 % 5 = 3"
   ]
  },
  {
   "cell_type": "code",
   "execution_count": 4,
   "id": "91086682-d053-4de3-a610-d85b5ab40cd3",
   "metadata": {},
   "outputs": [
    {
     "name": "stdout",
     "output_type": "stream",
     "text": [
      "17\n"
     ]
    }
   ],
   "source": [
    "#This is a simple arithematic expression to multiply then add integers. Lets multiply 3 times 4 adding with 5.\n",
    "A = (3*4)+5\n",
    "print(A)\n"
   ]
  },
  {
   "cell_type": "code",
   "execution_count": 5,
   "id": "e328a7e3-5774-498e-a204-dd64fb657081",
   "metadata": {
    "scrolled": true
   },
   "outputs": [
    {
     "name": "stdout",
     "output_type": "stream",
     "text": [
      "3.3333333333333335\n"
     ]
    }
   ],
   "source": [
    "#This programme below will convert 200 minutes into hours .\n",
    "A=(200/60)\n",
    "print(A)"
   ]
  },
  {
   "cell_type": "markdown",
   "id": "5be9ad84-7592-4b28-bd4b-a25033f289b1",
   "metadata": {},
   "source": [
    "## Author \n",
    "Sreedev Kottayi"
   ]
  }
 ],
 "metadata": {
  "kernelspec": {
   "display_name": "Python 3 (ipykernel)",
   "language": "python",
   "name": "python3"
  },
  "language_info": {
   "codemirror_mode": {
    "name": "ipython",
    "version": 3
   },
   "file_extension": ".py",
   "mimetype": "text/x-python",
   "name": "python",
   "nbconvert_exporter": "python",
   "pygments_lexer": "ipython3",
   "version": "3.12.8"
  }
 },
 "nbformat": 4,
 "nbformat_minor": 5
}
